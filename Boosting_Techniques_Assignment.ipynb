{
  "nbformat": 4,
  "nbformat_minor": 0,
  "metadata": {
    "colab": {
      "provenance": []
    },
    "kernelspec": {
      "name": "python3",
      "display_name": "Python 3"
    },
    "language_info": {
      "name": "python"
    }
  },
  "cells": [
    {
      "cell_type": "markdown",
      "source": [
        "#Boosting Techniques | Assignment\n",
        "\n",
        "\n",
        "###Q.1:What is Boosting in Machine Learning? Explain how it improves weak learners.\n",
        "\n",
        "Answer:\n",
        "\n",
        "- **Boosting** is an ensemble technique that combines multiple weak learners (often shallow decision trees) into a single strong model.\n",
        "\n",
        "- Each new learner is trained sequentially, focusing more on the errors (misclassified samples) made by the previous learners.\n",
        "\n",
        "- **Improvement process:**\n",
        "\n",
        "   - Assigns higher weights to misclassified points.\n",
        "\n",
        "  - Each model corrects its predecessor’s mistakes.\n",
        "\n",
        "  - Final prediction is based on weighted majority vote (classification) or weighted sum (regression).\n",
        "\n",
        "- This reduces bias and often achieves higher accuracy than bagging methods.\n",
        "\n",
        "###Q.2:What is the difference between AdaBoost and Gradient Boosting in terms of how models are trained?\n",
        "\n",
        "Answer:\n",
        "\n",
        "- **AdaBoost (Adaptive Boosting):**\n",
        "\n",
        "  - Adjusts sample weights after each round.\n",
        "\n",
        "  - Misclassified samples get higher weights → next model focuses on them.\n",
        "\n",
        "  - Combines weak learners by assigning higher weights to more accurate models.\n",
        "\n",
        "- **Gradient Boosting:**\n",
        "\n",
        "  - Models are trained sequentially to minimize a loss function (e.g., log-loss, MSE).\n",
        "\n",
        "  - Each new tree is fitted on the residual errors (gradients) of the previous ensemble.\n",
        "\n",
        "  - Uses gradient descent to optimize predictions.\n",
        "\n",
        "**Key difference:** AdaBoost reweights data points, while Gradient Boosting fits on residual errors using gradients.\n",
        "\n",
        "\n",
        "###Q.3:How does regularization help in XGBoost?\n",
        "\n",
        "Answer:\n",
        "\n",
        "- XGBoost includes L1 (Lasso) and L2 (Ridge) regularization in its objective function.\n",
        "\n",
        "- **Benefits:**\n",
        "\n",
        "  - Prevents overfitting by penalizing overly complex trees.\n",
        "\n",
        "  - Encourages sparsity in features (L1).\n",
        "\n",
        "  - Improves generalization on unseen data.\n",
        "\n",
        "  - Provides stability for high-dimensional datasets.\n",
        "\n",
        "- This makes XGBoost more robust compared to traditional Gradient Boosting.\n",
        "\n",
        "###Q.4:Why is CatBoost considered efficient for handling categorical data?\n",
        "\n",
        "Answer:\n",
        "\n",
        "- CatBoost has built-in support for categorical features → no need for manual one-hot encoding.\n",
        "\n",
        "- It uses Ordered Target Statistics (based on target variable distribution) instead of simple encoding.\n",
        "\n",
        "- Prevents target leakage with a permutation-driven approach.\n",
        "\n",
        "- Works efficiently even with high-cardinality categorical variables (e.g., zip codes, product IDs).\n",
        "\n",
        "- Thus, CatBoost is particularly powerful for datasets with many categorical variables.\n",
        "\n",
        "###Q.5:What are some real-world applications where boosting techniques are preferred over bagging methods?\n",
        "\n",
        "Answer:\n",
        "\n",
        "- Credit Scoring & Loan Default Prediction → Boosting handles imbalanced data better.\n",
        "\n",
        "- Fraud Detection → Sequential training captures subtle fraud patterns.\n",
        "\n",
        "- Healthcare (disease prediction) → High accuracy is crucial, boosting reduces bias.\n",
        "\n",
        "- E-commerce Recommendation Systems → Handles categorical + numerical features well.\n",
        "\n",
        "- Click-through Rate (CTR) Prediction in Ads → Boosting models like XGBoost/LightGBM dominate competitions (e.g., Kaggle)."
      ],
      "metadata": {
        "id": "lnHohi9jseqJ"
      }
    },
    {
      "cell_type": "markdown",
      "source": [
        "###Q.6: Write a Python program to:\n",
        "###● Train an AdaBoost Classifier on the Breast Cancer dataset.\n",
        "###● Print the model accuracy.\n",
        "\n",
        "Answer:\n"
      ],
      "metadata": {
        "id": "oqKps-6lvpS_"
      }
    },
    {
      "cell_type": "code",
      "execution_count": 7,
      "metadata": {
        "colab": {
          "base_uri": "https://localhost:8080/"
        },
        "id": "kToROe-Wsdca",
        "outputId": "bc826f99-8119-4ad9-c268-0a9130929944"
      },
      "outputs": [
        {
          "output_type": "stream",
          "name": "stdout",
          "text": [
            "AdaBoost Accuracy: 0.9707602339181286\n"
          ]
        }
      ],
      "source": [
        "from sklearn.datasets import load_breast_cancer\n",
        "from sklearn.ensemble import AdaBoostClassifier\n",
        "from sklearn.model_selection import train_test_split\n",
        "from sklearn.metrics import accuracy_score\n",
        "\n",
        "# Load dataset\n",
        "X, y = load_breast_cancer(return_X_y=True)\n",
        "X_train, X_test, y_train, y_test = train_test_split(X, y, test_size=0.3, random_state=42)\n",
        "\n",
        "# Train AdaBoost\n",
        "ada = AdaBoostClassifier(n_estimators=100, random_state=42)\n",
        "ada.fit(X_train, y_train)\n",
        "\n",
        "# Evaluate\n",
        "y_pred = ada.predict(X_test)\n",
        "print(\"AdaBoost Accuracy:\", accuracy_score(y_test, y_pred))\n"
      ]
    },
    {
      "cell_type": "markdown",
      "source": [
        "###Q.7: Write a Python program to:\n",
        "###● Train a Gradient Boosting Regressor on the California Housing dataset.\n",
        "###● Evaluate performance using R-squared score.\n",
        "\n",
        "Answer:"
      ],
      "metadata": {
        "id": "_Mk5gcW7xBt2"
      }
    },
    {
      "cell_type": "code",
      "source": [
        "from sklearn.datasets import fetch_california_housing\n",
        "from sklearn.model_selection import train_test_split\n",
        "from sklearn.ensemble import GradientBoostingRegressor\n",
        "from sklearn.metrics import r2_score\n",
        "\n",
        "# Load dataset\n",
        "data = fetch_california_housing()\n",
        "X, y = data.data, data.target\n",
        "X_train, X_test, y_train, y_test = train_test_split(X, y, test_size=0.3, random_state=42)\n",
        "\n",
        "# Train Gradient Boosting\n",
        "gbr = GradientBoostingRegressor(n_estimators=200, learning_rate=0.1, max_depth=4, random_state=42)\n",
        "gbr.fit(X_train, y_train)\n",
        "\n",
        "# Evaluate\n",
        "y_pred = gbr.predict(X_test)\n",
        "print(\"R-squared Score:\", r2_score(y_test, y_pred))\n"
      ],
      "metadata": {
        "colab": {
          "base_uri": "https://localhost:8080/"
        },
        "id": "yla7XEjhv7L9",
        "outputId": "e876d7f0-3d31-411f-bf8b-aa7f68d949ee"
      },
      "execution_count": 8,
      "outputs": [
        {
          "output_type": "stream",
          "name": "stdout",
          "text": [
            "R-squared Score: 0.8235291005094919\n"
          ]
        }
      ]
    },
    {
      "cell_type": "markdown",
      "source": [
        "###Question 8: Write a Python program to:\n",
        "###● Train an XGBoost Classifier on the Breast Cancer dataset.\n",
        "###● Tune the learning rate using GridSearchCV.\n",
        "###● Print the best parameters and accuracy.\n",
        "\n",
        "Answer."
      ],
      "metadata": {
        "id": "i12TG40ypdLF"
      }
    },
    {
      "cell_type": "code",
      "source": [
        "import xgboost as xgb\n",
        "from sklearn.datasets import load_breast_cancer\n",
        "from sklearn.model_selection import train_test_split, GridSearchCV\n",
        "\n",
        "# Load dataset\n",
        "X, y = load_breast_cancer(return_X_y=True)\n",
        "X_train, X_test, y_train, y_test = train_test_split(X, y, test_size=0.3, random_state=42)\n",
        "\n",
        "# Model\n",
        "xgb_clf = xgb.XGBClassifier(use_label_encoder=False, eval_metric=\"logloss\", random_state=42)\n",
        "\n",
        "# Parameter grid\n",
        "param_grid = {'learning_rate': [0.01, 0.05, 0.1, 0.2]}\n",
        "\n",
        "# Grid search\n",
        "grid = GridSearchCV(xgb_clf, param_grid, cv=3, scoring='accuracy')\n",
        "grid.fit(X_train, y_train)\n",
        "\n",
        "print(\"Best Parameters:\", grid.best_params_)\n",
        "print(\"Best Accuracy:\", grid.best_score_)\n",
        "\n"
      ],
      "metadata": {
        "id": "5uMOUOiyxRXF",
        "colab": {
          "base_uri": "https://localhost:8080/"
        },
        "outputId": "f3a8d87a-5de4-4564-913f-fdc62cd5bb3f"
      },
      "execution_count": 12,
      "outputs": [
        {
          "output_type": "stream",
          "name": "stdout",
          "text": [
            "Best Parameters: {'learning_rate': 0.05}\n",
            "Best Accuracy: 0.9572605756816284\n"
          ]
        }
      ]
    },
    {
      "cell_type": "markdown",
      "source": [
        "###Question 9: Write a Python program to:\n",
        "###● Train a CatBoost Classifier.\n",
        "###● Plot the confusion matrix using seaborn.\n",
        "\n",
        "Answer."
      ],
      "metadata": {
        "id": "DR7SRDM9r_NC"
      }
    },
    {
      "cell_type": "code",
      "source": [
        "from catboost import CatBoostClassifier\n",
        "from sklearn.metrics import confusion_matrix\n",
        "import seaborn as sns\n",
        "import matplotlib.pyplot as plt\n",
        "\n",
        "# Train CatBoost\n",
        "cat = CatBoostClassifier(iterations=200, learning_rate=0.1, depth=6, verbose=0, random_state=42)\n",
        "cat.fit(X_train, y_train)\n",
        "\n",
        "# Predictions\n",
        "y_pred = cat.predict(X_test)\n",
        "\n",
        "# Confusion Matrix\n",
        "cm = confusion_matrix(y_test, y_pred)\n",
        "\n",
        "sns.heatmap(cm, annot=True, fmt=\"d\", cmap=\"Blues\")\n",
        "plt.xlabel(\"Predicted\")\n",
        "plt.ylabel(\"Actual\")\n",
        "plt.title(\"CatBoost Confusion Matrix\")\n",
        "plt.show()\n"
      ],
      "metadata": {
        "colab": {
          "base_uri": "https://localhost:8080/",
          "height": 472
        },
        "id": "1ZE-6h4uqAij",
        "outputId": "6f280c8d-b27f-44ce-8947-e27bae3bce7c"
      },
      "execution_count": 15,
      "outputs": [
        {
          "output_type": "display_data",
          "data": {
            "text/plain": [
              "<Figure size 640x480 with 2 Axes>"
            ],
            "image/png": "[encoded data removed]"
          },
          "metadata": {}
        }
      ]
    },
    {
      "cell_type": "markdown",
      "source": [
        "###Question 10: You're working for a FinTech company trying to predict loan default using customer demographics and transaction behavior. The dataset is imbalanced, contains missing values, and has both numeric and categorical features.\n",
        "###Describe your step-by-step data science pipeline using boosting techniques:\n",
        "###● Data preprocessing & handling missing/categorical values.\n",
        "###● Choice between AdaBoost, XGBoost, or CatBoost.\n",
        "###● Hyperparameter tuning strategy.\n",
        "###● Evaluation metrics you'd choose and why.\n",
        "###● How the business would benefit from your model.\n",
        "\n",
        "Answer.\n",
        "\n",
        "**Step-by-step Pipeline:**\n",
        "\n",
        "**1.Data Preprocessing:**\n",
        "\n",
        "- Handle missing values → mean/median for numeric, most frequent/“unknown” for categorical.\n",
        "\n",
        "- Encode categorical features → CatBoost can handle directly, else use target encoding/one-hot.\n",
        "\n",
        "- Scale numeric values if needed.\n",
        "\n",
        "- Address class imbalance → SMOTE, class weights, or balanced boosting.\n",
        "\n",
        "**2.Choice of Algorithm:**\n",
        "\n",
        "- CatBoost is preferred (handles categorical + missing values well).\n",
        "\n",
        "- Alternatively, XGBoost with careful preprocessing.\n",
        "\n",
        "**3.Hyperparameter Tuning:**\n",
        "\n",
        "- GridSearchCV / RandomizedSearchCV on parameters like learning_rate, max_depth, n_estimators.\n",
        "\n",
        "- Use early stopping to prevent overfitting.\n",
        "\n",
        "**4.Evaluation Metrics:**\n",
        "\n",
        "- Accuracy is not sufficient (data is imbalanced).\n",
        "\n",
        "- Use Precision, Recall, F1-score, AUC-ROC.\n",
        "\n",
        "- AUC-ROC helps measure ability to distinguish defaults from non-defaults.\n",
        "\n",
        "**5.Business Benefit:**\n",
        "\n",
        "Better risk assessment → fewer loan defaults.\n",
        "\n",
        "Improved profitability by targeting reliable customers.\n",
        "\n",
        "More trust in automated credit scoring systems."
      ],
      "metadata": {
        "id": "TPVr6ky5tQGj"
      }
    },
    {
      "cell_type": "code",
      "source": [],
      "metadata": {
        "id": "Z5K1jWupsLVW"
      },
      "execution_count": null,
      "outputs": []
    }
  ]
}